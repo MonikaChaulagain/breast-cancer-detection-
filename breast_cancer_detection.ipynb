{
 "cells": [
  {
   "cell_type": "code",
   "execution_count": 41,
   "id": "dd9cf2c5",
   "metadata": {},
   "outputs": [],
   "source": [
    "#Breast cancer detection\tFeature scaling, accuracy\tsklearn.datasets.load_breast_cancer"
   ]
  },
  {
   "cell_type": "code",
   "execution_count": 57,
   "id": "0644a4d6",
   "metadata": {},
   "outputs": [],
   "source": [
    "from sklearn.datasets import load_breast_cancer\n",
    "from sklearn.metrics import accuracy_score,confusion_matrix,classification_report\n",
    "from sklearn.model_selection import train_test_split\n",
    "from sklearn.preprocessing import StandardScaler\n",
    "import numpy as np\n",
    "import torch\n",
    "import torch.nn as nn\n",
    "import torch.optim as optim \n",
    "from torch.utils.data import DataLoader,TensorDataset"
   ]
  },
  {
   "cell_type": "code",
   "execution_count": 43,
   "id": "9b19af5a",
   "metadata": {},
   "outputs": [],
   "source": [
    "bc=load_breast_cancer()\n",
    "X=bc.data\n",
    "y=bc.target\n",
    "#print(bc.target_names)\n",
    "#print(bc.feature_names)\n",
    "scaler=StandardScaler()\n",
    "X_scaled=scaler.fit_transform(X)\n",
    "X_train,X_test,y_train,y_test=train_test_split(X_scaled,y,test_size=0.2,random_state=42)\n",
    "\n"
   ]
  },
  {
   "cell_type": "code",
   "execution_count": 44,
   "id": "91a1a3cd",
   "metadata": {},
   "outputs": [],
   "source": [
    "X_train_tensor=torch.tensor(X_train,dtype=torch.float32)\n",
    "y_train_tensor=torch.tensor(y_train,dtype=torch.float32)\n",
    "X_test_tensor=torch.tensor(X_test,dtype=torch.float32)\n",
    "y_test_tensor=torch.tensor(y_test,dtype=torch.float32)\n",
    "train_dataset=TensorDataset(X_train_tensor,y_train_tensor)\n",
    "test_dataset=TensorDataset(X_test_tensor,y_test_tensor)\n",
    "train_loaders=DataLoader(train_dataset,batch_size=32,shuffle=True)\n",
    "test_loaders=DataLoader(test_dataset,batch_size=32,shuffle=True)"
   ]
  },
  {
   "cell_type": "code",
   "execution_count": 45,
   "id": "c53ac456",
   "metadata": {},
   "outputs": [],
   "source": [
    "class Brest_cancer_detection(nn.Module):\n",
    "    def __init__(self,input_size,hiddensize1,hiddensize2,outputsize):\n",
    "        super().__init__()\n",
    "        self.inputlayer=nn.Linear(input_size,hiddensize1)\n",
    "        self.hiddenlayer=nn.Linear(hiddensize1,hiddensize2)\n",
    "        self.outputlayer=nn.Linear(hiddensize2,outputsize)\n",
    "        self.relu=nn.ReLU()\n",
    "    def forward(self,X):\n",
    "        X=self.inputlayer(X)\n",
    "        X=self.relu(X)\n",
    "        X=self.hiddenlayer(X)\n",
    "        X=self.relu(X)\n",
    "        X=self.outputlayer(X)\n",
    "        return X\n",
    "        \n"
   ]
  },
  {
   "cell_type": "code",
   "execution_count": 46,
   "id": "2fa4cff4",
   "metadata": {},
   "outputs": [
    {
     "name": "stdout",
     "output_type": "stream",
     "text": [
      "(569, 30)\n",
      "(569,)\n",
      "tensor([1., 0., 0., 1., 1., 0., 0., 0., 1., 1., 1., 0., 1., 0., 1., 0., 1., 1.,\n",
      "        1., 0., 0., 1., 0., 1., 1., 1., 1., 1., 1., 0., 1., 1., 1., 1., 1., 1.,\n",
      "        0., 1., 0., 1., 1., 0., 1., 1., 1., 1., 1., 1., 1., 1., 0., 0., 1., 1.,\n",
      "        1., 1., 1., 0., 0., 1., 1., 0., 0., 1., 1., 1., 0., 0., 1., 1., 0., 0.,\n",
      "        1., 0., 1., 1., 1., 0., 1., 1., 0., 1., 0., 0., 0., 0., 0., 0., 1., 1.,\n",
      "        1., 1., 1., 1., 1., 1., 0., 0., 1., 0., 0., 1., 0., 0., 1., 1., 1., 0.,\n",
      "        1., 1., 0., 1., 1., 0.])\n"
     ]
    }
   ],
   "source": [
    "print(X.shape)\n",
    "print(y.shape)\n",
    "input_size=30\n",
    "hiddensize1=128\n",
    "hiddensize2=64\n",
    "outputsize=1\n",
    "model=Brest_cancer_detection(input_size,hiddensize1,hiddensize2,outputsize)\n",
    "criterion=nn.BCEWithLogitsLoss()\n",
    "optimizer=optim.Adam(model.parameters(),lr=0.001)\n",
    "print(y_test_tensor)"
   ]
  },
  {
   "cell_type": "code",
   "execution_count": null,
   "id": "9ba19f62",
   "metadata": {},
   "outputs": [
    {
     "name": "stdout",
     "output_type": "stream",
     "text": [
      "epoch 1,loss:0.000622540891360283\n",
      "epoch 2,loss:0.0006062639062292874\n",
      "epoch 3,loss:0.0006003339075202045\n",
      "epoch 4,loss:0.0005625967489322648\n",
      "epoch 5,loss:0.000557265183791363\n",
      "epoch 6,loss:0.0005139529366895583\n",
      "epoch 7,loss:0.00048792914791799075\n",
      "epoch 8,loss:0.0004973100858478574\n",
      "epoch 9,loss:0.000669080538500566\n",
      "epoch 10,loss:0.00044360776507043436\n",
      "epoch 11,loss:0.00045081387501978064\n",
      "epoch 12,loss:0.00043023326458448233\n",
      "epoch 13,loss:0.00039507693266690086\n",
      "epoch 14,loss:0.0003741558733452166\n",
      "epoch 15,loss:0.0004109616624191403\n",
      "epoch 16,loss:0.00035102704756961124\n",
      "epoch 17,loss:0.0003284240944722683\n",
      "epoch 18,loss:0.000342337795397422\n",
      "epoch 19,loss:0.0003100341309391297\n",
      "epoch 20,loss:0.0003098292718580827\n",
      "epoch 21,loss:0.0003118579605143168\n",
      "epoch 22,loss:0.00029208237260718305\n",
      "epoch 23,loss:0.00027453242873889396\n",
      "epoch 24,loss:0.0002670995851682771\n",
      "epoch 25,loss:0.0002576160936465991\n",
      "epoch 26,loss:0.00025629410241284254\n",
      "epoch 27,loss:0.00024340012654041251\n",
      "epoch 28,loss:0.0002353053126891306\n",
      "epoch 29,loss:0.0002310937344229084\n",
      "epoch 30,loss:0.00022628940005233744\n",
      "epoch 31,loss:0.00021861779778191702\n",
      "epoch 32,loss:0.00021656623812305043\n",
      "epoch 33,loss:0.00020906173306987815\n",
      "epoch 34,loss:0.0003296304337709444\n",
      "epoch 35,loss:0.00021272125046986428\n",
      "epoch 36,loss:0.00020797991757734262\n",
      "epoch 37,loss:0.00020317937884139307\n",
      "epoch 38,loss:0.0002153846597290491\n",
      "epoch 39,loss:0.00018214700794487725\n",
      "epoch 40,loss:0.00017314480392087716\n"
     ]
    }
   ],
   "source": [
    "model.train()\n",
    "epochs_no=40\n",
    "for epochs in range(epochs_no):\n",
    "    running_loss=0\n",
    "    for inputs,labels in train_loaders:\n",
    "        optimizer.zero_grad()\n",
    "        outputs=model(inputs)\n",
    "        labels=labels.unsqueeze(1)\n",
    "        loss=criterion(outputs,labels)\n",
    "        loss.backward()\n",
    "        optimizer.step()\n",
    "        running_loss+=loss.item()\n",
    "    print(f\"epoch {epochs+1},loss:{running_loss/len(train_loaders)}\")\n",
    "   \n",
    "\n"
   ]
  },
  {
   "cell_type": "code",
   "execution_count": 68,
   "id": "f5e5ad6a",
   "metadata": {},
   "outputs": [
    {
     "name": "stdout",
     "output_type": "stream",
     "text": [
      " Accuracy: 0.9824561403508771\n",
      "classification_report\n",
      "               precision    recall  f1-score   support\n",
      "\n",
      "           0       1.00      0.95      0.98        43\n",
      "           1       0.97      1.00      0.99        71\n",
      "\n",
      "    accuracy                           0.98       114\n",
      "   macro avg       0.99      0.98      0.98       114\n",
      "weighted avg       0.98      0.98      0.98       114\n",
      "\n",
      "confusion matrix\n",
      " [[41  2]\n",
      " [ 0 71]]\n"
     ]
    }
   ],
   "source": [
    "model.eval()\n",
    "with torch.no_grad():\n",
    "    all_labels=[]\n",
    "    all_preds=[]\n",
    "    for inputs,labels in test_loaders:\n",
    "        outputs=model(inputs)\n",
    "        #labels=(labels>0.5).int().squeeze()\n",
    "        probs=torch.sigmoid(outputs)\n",
    "        preds =(probs > 0.1).int().squeeze()\n",
    "        all_preds.extend(preds.numpy())\n",
    "        all_labels.extend(labels.int().numpy())\n",
    "assert len(all_preds) == len(all_labels)   \n",
    "acc = accuracy_score(all_labels, all_preds)\n",
    "print(\" Accuracy:\", acc)\n",
    "print('classification_report\\n',classification_report(all_labels,all_preds))\n",
    "print('confusion matrix\\n',confusion_matrix(all_labels,all_preds))"
   ]
  },
  {
   "cell_type": "code",
   "execution_count": 64,
   "id": "546a5453",
   "metadata": {},
   "outputs": [
    {
     "data": {
      "image/png": "[encoded data removed]",
      "text/plain": [
       "<Figure size 640x480 with 1 Axes>"
      ]
     },
     "metadata": {},
     "output_type": "display_data"
    }
   ],
   "source": [
    "import matplotlib.pyplot as plt\n",
    "\n",
    "plt.hist(probs, bins=50)\n",
    "plt.title(\"Histogram of predicted probabilities\")\n",
    "plt.xlabel(\"Probability\")\n",
    "plt.ylabel(\"Frequency\")\n",
    "plt.show()\n"
   ]
  }
 ],
 "metadata": {
  "kernelspec": {
   "display_name": "venvtorch (3.13.5)",
   "language": "python",
   "name": "python3"
  },
  "language_info": {
   "codemirror_mode": {
    "name": "ipython",
    "version": 3
   },
   "file_extension": ".py",
   "mimetype": "text/x-python",
   "name": "python",
   "nbconvert_exporter": "python",
   "pygments_lexer": "ipython3",
   "version": "3.13.5"
  }
 },
 "nbformat": 4,
 "nbformat_minor": 5
}
